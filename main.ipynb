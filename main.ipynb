{
 "cells": [
  {
   "cell_type": "code",
   "execution_count": 1,
   "id": "183829ee",
   "metadata": {},
   "outputs": [],
   "source": [
    "import pandas as pd\n",
    "import re\n"
   ]
  },
  {
   "cell_type": "markdown",
   "id": "42dd1dcb",
   "metadata": {},
   "source": [
    "# Reading required Whatsapp chat text files."
   ]
  },
  {
   "cell_type": "code",
   "execution_count": 113,
   "id": "e8989fda",
   "metadata": {},
   "outputs": [],
   "source": [
    "f = open(\"WhatsApp Chat with Discussion (24-h format).txt\",'r',encoding='utf-8') \n",
    "data1 = f.read() # with 24 hour format"
   ]
  },
  {
   "cell_type": "code",
   "execution_count": 114,
   "id": "2b97ee1d",
   "metadata": {},
   "outputs": [],
   "source": [
    "g = open(\"WhatsApp Chat with Discussion (12h format).txt\",'r',encoding='utf-8')\n",
    "data2 = g.read() # with 12 hour format"
   ]
  },
  {
   "cell_type": "markdown",
   "id": "9465abdf",
   "metadata": {},
   "source": [
    "### Data1 is in 24 hour format."
   ]
  },
  {
   "cell_type": "code",
   "execution_count": 4,
   "id": "d3984b98",
   "metadata": {},
   "outputs": [
    {
     "name": "stdout",
     "output_type": "stream",
     "text": [
      "12/30/23, 22:05 - Messages and calls are end-to-end encrypted. No one outside of this chat, not even WhatsApp, can read or listen to them. Tap to learn more.\n",
      "12/30/23, 22:05 - You created group \"Discussion\"\n",
      "12/30/23, 22:06 - Pranesh Chowdhury: Hi, How are you?\n",
      "12/30/23, 22:07 - Pranesh Chowdhury: I am trying to make a message dataset for our python project.\n",
      "12/30/23, 22:08 - Pranesh Chowdhury: Please message in english. Because our analysis work on the English language.\n",
      "12/30/23, 22:09 - Pranesh Chowdhury: Continue it.\n",
      "12/30/23, 22:09 - Pranesh Chowdhury: ☺️\n",
      "12/30/23, 22:12 - Pranesh Chowdhury: I am doing a python project. So I need your help to create this chats.\n",
      "12/30/23, 22:13 - Pranesh Chowdhury: I want to analyze the exported chat files.\n",
      "12/30/23, 22:18 - You added Ayaz EDU\n",
      "12/30/23, 22:18 - Pranesh Chowdhury: Hello ayaz.\n",
      "12/30/23, 22:19 - Ayaz EDU: Yo what's up\n",
      "12/30/23, 22:19 - Pranesh Chowdhury: Fine, Thanks for coming here.\n",
      "12/30/23, 22:19 - Ayaz EDU: Welcome bro\n",
      "12/30/23, 22:20 - Pranesh Chowdhury: I just need to make a group file of 20 to 30 chats.\n",
      "12/30/23, 22:20 - Ayaz EDU: How is your python projects going\n",
      "12/30/23, 22:20 - Ayaz EDU: Ok ok\n",
      "12/30/23, 22:20 - Pranesh Chowdhury: pretty good.\n",
      "12/30/23, 22:21 - Ayaz EDU: Here is nabo da\n",
      "12/30/23, 22:21 - Pranesh Chowdhury: If I am not mistake you are grouped with tanvir.\n",
      "12/30/23, 22:21 - Ayaz EDU: Yeap\n",
      "12/30/23, 22:21 - Pranesh Chowdhury: Nobo is busy now 😅\n",
      "12/30/23, 22:21 - Ayaz EDU: Now revising the codes\n",
      "12/30/23, 22:22 - Pranesh Chowdhury: seems like he is enjoying\n",
      "12/30/23, 22:22 - Ayaz EDU: Who nabo?\n",
      "12/30/23, 22:22 - Pranesh Chowdhury: He will join after he complete his work.\n",
      "12/30/23, 22:23 - Pranesh Chowdhury: a famous edu student.\n",
      "12/30/23, 22:23 - Pranesh Chowdhury: when he comes we all laugh. that's the man is nobo.\n",
      "12/30/23, 22:23 - Pranesh Chowdhury: 😂\n",
      "12/30/23, 22:24 - Ayaz EDU: Yeap always get 4. But act like he is dumer then us\n",
      "12/30/23, 22:24 - Ayaz EDU: Toxic nabo\n",
      "12/30/23, 22:24 - Pranesh Chowdhury: Yeah, man.\n",
      "12/30/23, 22:24 - Pranesh Chowdhury: 😂\n",
      "12/30/23, 22:25 - Ayaz EDU: Im also doing our favorite jamil sir assignment\n",
      "12/30/23, 22:25 - Pranesh Chowdhury: now express how much anger you have\n",
      "12/30/23, 22:25 - Pranesh Chowdhury: 😅\n",
      "12/30/23, 22:26 - Pranesh Chowdhury: I did the code assignment.\n",
      "12/30/23, 22:26 - Pranesh Chowdhury: Is that code assignment or written ?\n",
      "12/30/23, 22:26 - Ayaz EDU: He gave us two assignments\n",
      "12/30/23, 22:26 - Ayaz EDU: Coding and writing\n",
      "12/30/23, 22:27 - Pranesh Chowdhury: Yes. Right now which one you are doing?\n",
      "12/30/23, 22:27 - Ayaz EDU: Today is the last day for submitting coding assignment\n",
      "12/30/23, 22:27 - Ayaz EDU: Writing\n",
      "12/30/23, 22:27 - Ayaz EDU: Tomorrow is last date for writing assignment\n",
      "12/30/23, 22:27 - Pranesh Chowdhury: Yes, I did both of the assignment.\n",
      "12/30/23, 22:27 - Ayaz EDU: Lot of questions\n",
      "12/30/23, 22:27 - Pranesh Chowdhury: did you completed that ?\n",
      "12/30/23, 22:27 - Ayaz EDU: Too many theory\n",
      "12/30/23, 22:27 - Ayaz EDU: No\n",
      "12/30/23, 22:28 - Pranesh Chowdhury: yes, it takes time\n",
      "12/30/23, 22:28 - Ayaz EDU: I only did the math\n",
      "12/30/23, 22:28 - Ayaz EDU: Didn't touch the theory\n",
      "12/30/23, 22:28 - Pranesh Chowdhury: Oh, sorry I am disturbing you.\n",
      "12/30/23, 22:28 - Ayaz EDU: Bro download any game\n",
      "12/30/23, 22:29 - Ayaz EDU: Its okay\n",
      "12/30/23, 22:29 - Ayaz EDU: Which one should be better for playing together\n",
      "12/30/23, 22:29 - Pranesh Chowdhury: thanks for helping me to create a discussion file.\n",
      "12/30/23, 22:30 - Ayaz EDU: Im downloading cyberpunk\n",
      "12/30/23, 22:30 - Pranesh Chowdhury: which game?\n",
      "12/30/23, 22:30 - Ayaz EDU: null\n",
      "12/30/23, 22:31 - Pranesh Chowdhury: brother download the \"pika super wallpaper\". It has beautiful themes.\n",
      "12/30/23, 22:31 - Pranesh Chowdhury: when you charging your mobile it sounds based on your wallpaper.\n",
      "12/30/23, 22:31 - Ayaz EDU: Okay\n",
      "12/30/23, 22:32 - Ayaz EDU: Let me see\n",
      "12/30/23, 22:32 - Pranesh Chowdhury: ok, bro.\n",
      "12/30/23, 22:32 - Pranesh Chowdhury: Have a good day.\n",
      "12/30/23, 22:34 - Ayaz EDU: You, too\n",
      "\n"
     ]
    }
   ],
   "source": [
    "print(data1)"
   ]
  },
  {
   "cell_type": "markdown",
   "id": "35b4e115",
   "metadata": {},
   "source": [
    "### Data2 is in 12 hour format"
   ]
  },
  {
   "cell_type": "code",
   "execution_count": 117,
   "id": "8b9de502",
   "metadata": {},
   "outputs": [
    {
     "name": "stdout",
     "output_type": "stream",
     "text": [
      "12/30/23, 10:05 pm - Messages and calls are end-to-end encrypted. No one outside of this chat, not even WhatsApp, can read or listen to them. Tap to learn more.\n",
      "12/30/23, 10:05 pm - You created group \"Discussion\"\n",
      "12/30/23, 10:06 pm - Pranesh Chowdhury: Hi, How are you?\n",
      "12/30/23, 10:07 pm - Pranesh Chowdhury: I am trying to make a message dataset for our python project.\n",
      "12/30/23, 10:08 pm - Pranesh Chowdhury: Please message in english. Because our analysis work on the English language.\n",
      "12/30/23, 10:09 pm - Pranesh Chowdhury: Continue it.\n",
      "12/30/23, 10:09 pm - Pranesh Chowdhury: ☺️\n",
      "12/30/23, 10:12 pm - Pranesh Chowdhury: I am doing a python project. So I need your help to create this chats.\n",
      "12/30/23, 10:13 pm - Pranesh Chowdhury: I want to analyze the exported chat files.\n",
      "12/30/23, 10:18 pm - You added Ayaz EDU\n",
      "12/30/23, 10:18 pm - Pranesh Chowdhury: Hello ayaz.\n",
      "12/30/23, 10:19 pm - Ayaz EDU: Yo what's up\n",
      "12/30/23, 10:19 pm - Pranesh Chowdhury: Fine, Thanks for coming here.\n",
      "12/30/23, 10:19 pm - Ayaz EDU: Welcome bro\n",
      "12/30/23, 10:20 pm - Pranesh Chowdhury: I just need to make a group file of 20 to 30 chats.\n",
      "12/30/23, 10:20 pm - Ayaz EDU: How is your python projects going\n",
      "12/30/23, 10:20 pm - Ayaz EDU: Ok ok\n",
      "12/30/23, 10:20 pm - Pranesh Chowdhury: pretty good.\n",
      "12/30/23, 10:21 pm - Ayaz EDU: Here is nabo da\n",
      "12/30/23, 10:21 pm - Pranesh Chowdhury: If I am not mistake you are grouped with tanvir.\n",
      "12/30/23, 10:21 pm - Ayaz EDU: Yeap\n",
      "12/30/23, 10:21 pm - Pranesh Chowdhury: Nobo is busy now 😅\n",
      "12/30/23, 10:21 pm - Ayaz EDU: Now revising the codes\n",
      "12/30/23, 10:22 pm - Pranesh Chowdhury: seems like he is enjoying\n",
      "12/30/23, 10:22 pm - Ayaz EDU: Who nabo?\n",
      "12/30/23, 10:22 pm - Pranesh Chowdhury: He will join after he complete his work.\n",
      "12/30/23, 10:23 pm - Pranesh Chowdhury: a famous edu student.\n",
      "12/30/23, 10:23 pm - Pranesh Chowdhury: when he comes we all laugh. that's the man is nobo.\n",
      "12/30/23, 10:23 pm - Pranesh Chowdhury: 😂\n",
      "12/30/23, 10:24 pm - Ayaz EDU: Yeap always get 4. But act like he is dumer then us\n",
      "12/30/23, 10:24 pm - Ayaz EDU: Toxic nabo\n",
      "12/30/23, 10:24 pm - Pranesh Chowdhury: Yeah, man.\n",
      "12/30/23, 10:24 pm - Pranesh Chowdhury: 😂\n",
      "12/30/23, 10:25 pm - Ayaz EDU: Im also doing our favorite jamil sir assignment\n",
      "12/30/23, 10:25 pm - Pranesh Chowdhury: now express how much anger you have\n",
      "12/30/23, 10:25 pm - Pranesh Chowdhury: 😅\n",
      "12/30/23, 10:26 pm - Pranesh Chowdhury: I did the code assignment.\n",
      "12/30/23, 10:26 pm - Pranesh Chowdhury: Is that code assignment or written ?\n",
      "12/30/23, 10:26 pm - Ayaz EDU: He gave us two assignments\n",
      "12/30/23, 10:26 pm - Ayaz EDU: Coding and writing\n",
      "12/30/23, 10:27 pm - Pranesh Chowdhury: Yes. Right now which one you are doing?\n",
      "12/30/23, 10:27 pm - Ayaz EDU: Today is the last day for submitting coding assignment\n",
      "12/30/23, 10:27 pm - Ayaz EDU: Writing\n",
      "12/30/23, 10:27 pm - Ayaz EDU: Tomorrow is last date for writing assignment\n",
      "12/30/23, 10:27 pm - Pranesh Chowdhury: Yes, I did both of the assignment.\n",
      "12/30/23, 10:27 pm - Ayaz EDU: Lot of questions\n",
      "12/30/23, 10:27 pm - Pranesh Chowdhury: did you completed that ?\n",
      "12/30/23, 10:27 pm - Ayaz EDU: Too many theory\n",
      "12/30/23, 10:27 pm - Ayaz EDU: No\n",
      "12/30/23, 10:28 pm - Pranesh Chowdhury: yes, it takes time\n",
      "12/30/23, 10:28 pm - Ayaz EDU: I only did the math\n",
      "12/30/23, 10:28 pm - Ayaz EDU: Didn't touch the theory\n",
      "12/30/23, 10:28 pm - Pranesh Chowdhury: Oh, sorry I am disturbing you.\n",
      "12/30/23, 10:28 pm - Ayaz EDU: Bro download any game\n",
      "12/30/23, 10:29 pm - Ayaz EDU: Its okay\n",
      "12/30/23, 10:29 pm - Ayaz EDU: Which one should be better for playing together\n",
      "12/30/23, 10:29 pm - Pranesh Chowdhury: thanks for helping me to create a discussion file.\n",
      "12/30/23, 10:30 pm - Ayaz EDU: Im downloading cyberpunk\n",
      "12/30/23, 10:30 pm - Pranesh Chowdhury: which game?\n",
      "12/30/23, 10:30 pm - Ayaz EDU: null\n",
      "12/30/23, 10:31 pm - Pranesh Chowdhury: brother download the \"pika super wallpaper\". It has beautiful themes.\n",
      "12/30/23, 10:31 pm - Pranesh Chowdhury: when you charging your mobile it sounds based on your wallpaper.\n",
      "12/30/23, 10:31 pm - Ayaz EDU: Okay\n",
      "12/30/23, 10:32 pm - Ayaz EDU: Let me see\n",
      "12/30/23, 10:32 pm - Pranesh Chowdhury: ok, bro.\n",
      "12/30/23, 10:32 pm - Pranesh Chowdhury: Have a good day.\n",
      "12/30/23, 10:34 pm - Ayaz EDU: You, toopm\n",
      "\n"
     ]
    }
   ],
   "source": [
    "print(data2)"
   ]
  },
  {
   "cell_type": "markdown",
   "id": "37259387",
   "metadata": {},
   "source": [
    "## Defining regx pattern to extract date and messages from text files\n"
   ]
  },
  {
   "cell_type": "code",
   "execution_count": 118,
   "id": "4aa212f8",
   "metadata": {
    "scrolled": true
   },
   "outputs": [
    {
     "name": "stdout",
     "output_type": "stream",
     "text": [
      "<re.Match object; span=(0, 18), match='12/30/23, 22:05 - '>\n",
      "<re.Match object; span=(158, 176), match='12/30/23, 22:05 - '>\n",
      "<re.Match object; span=(207, 225), match='12/30/23, 22:06 - '>\n",
      "<re.Match object; span=(261, 279), match='12/30/23, 22:07 - '>\n",
      "<re.Match object; span=(360, 378), match='12/30/23, 22:08 - '>\n",
      "<re.Match object; span=(475, 493), match='12/30/23, 22:09 - '>\n",
      "<re.Match object; span=(525, 543), match='12/30/23, 22:09 - '>\n",
      "<re.Match object; span=(565, 583), match='12/30/23, 22:12 - '>\n",
      "<re.Match object; span=(673, 691), match='12/30/23, 22:13 - '>\n",
      "<re.Match object; span=(753, 771), match='12/30/23, 22:18 - '>\n",
      "<re.Match object; span=(790, 808), match='12/30/23, 22:18 - '>\n",
      "<re.Match object; span=(839, 857), match='12/30/23, 22:19 - '>\n",
      "<re.Match object; span=(880, 898), match='12/30/23, 22:19 - '>\n",
      "<re.Match object; span=(947, 965), match='12/30/23, 22:19 - '>\n",
      "<re.Match object; span=(987, 1005), match='12/30/23, 22:20 - '>\n",
      "<re.Match object; span=(1076, 1094), match='12/30/23, 22:20 - '>\n",
      "<re.Match object; span=(1138, 1156), match='12/30/23, 22:20 - '>\n",
      "<re.Match object; span=(1172, 1190), match='12/30/23, 22:20 - '>\n",
      "<re.Match object; span=(1222, 1240), match='12/30/23, 22:21 - '>\n",
      "<re.Match object; span=(1266, 1284), match='12/30/23, 22:21 - '>\n",
      "<re.Match object; span=(1352, 1370), match='12/30/23, 22:21 - '>\n",
      "<re.Match object; span=(1385, 1403), match='12/30/23, 22:21 - '>\n",
      "<re.Match object; span=(1441, 1459), match='12/30/23, 22:21 - '>\n",
      "<re.Match object; span=(1492, 1510), match='12/30/23, 22:22 - '>\n",
      "<re.Match object; span=(1555, 1573), match='12/30/23, 22:22 - '>\n",
      "<re.Match object; span=(1593, 1611), match='12/30/23, 22:22 - '>\n",
      "<re.Match object; span=(1671, 1689), match='12/30/23, 22:23 - '>\n",
      "<re.Match object; span=(1730, 1748), match='12/30/23, 22:23 - '>\n",
      "<re.Match object; span=(1819, 1837), match='12/30/23, 22:23 - '>\n",
      "<re.Match object; span=(1858, 1876), match='12/30/23, 22:24 - '>\n",
      "<re.Match object; span=(1938, 1956), match='12/30/23, 22:24 - '>\n",
      "<re.Match object; span=(1977, 1995), match='12/30/23, 22:24 - '>\n",
      "<re.Match object; span=(2025, 2043), match='12/30/23, 22:24 - '>\n",
      "<re.Match object; span=(2064, 2082), match='12/30/23, 22:25 - '>\n",
      "<re.Match object; span=(2140, 2158), match='12/30/23, 22:25 - '>\n",
      "<re.Match object; span=(2213, 2231), match='12/30/23, 22:25 - '>\n",
      "<re.Match object; span=(2252, 2270), match='12/30/23, 22:26 - '>\n",
      "<re.Match object; span=(2316, 2334), match='12/30/23, 22:26 - '>\n",
      "<re.Match object; span=(2390, 2408), match='12/30/23, 22:26 - '>\n",
      "<re.Match object; span=(2445, 2463), match='12/30/23, 22:26 - '>\n",
      "<re.Match object; span=(2492, 2510), match='12/30/23, 22:27 - '>\n",
      "<re.Match object; span=(2569, 2587), match='12/30/23, 22:27 - '>\n",
      "<re.Match object; span=(2652, 2670), match='12/30/23, 22:27 - '>\n",
      "<re.Match object; span=(2688, 2706), match='12/30/23, 22:27 - '>\n",
      "<re.Match object; span=(2761, 2779), match='12/30/23, 22:27 - '>\n",
      "<re.Match object; span=(2833, 2851), match='12/30/23, 22:27 - '>\n",
      "<re.Match object; span=(2878, 2896), match='12/30/23, 22:27 - '>\n",
      "<re.Match object; span=(2940, 2958), match='12/30/23, 22:27 - '>\n",
      "<re.Match object; span=(2984, 3002), match='12/30/23, 22:27 - '>\n",
      "<re.Match object; span=(3015, 3033), match='12/30/23, 22:28 - '>\n",
      "<re.Match object; span=(3071, 3089), match='12/30/23, 22:28 - '>\n",
      "<re.Match object; span=(3119, 3137), match='12/30/23, 22:28 - '>\n",
      "<re.Match object; span=(3171, 3189), match='12/30/23, 22:28 - '>\n",
      "<re.Match object; span=(3239, 3257), match='12/30/23, 22:28 - '>\n",
      "<re.Match object; span=(3289, 3307), match='12/30/23, 22:29 - '>\n",
      "<re.Match object; span=(3326, 3344), match='12/30/23, 22:29 - '>\n",
      "<re.Match object; span=(3402, 3420), match='12/30/23, 22:29 - '>\n",
      "<re.Match object; span=(3490, 3508), match='12/30/23, 22:30 - '>\n",
      "<re.Match object; span=(3543, 3561), match='12/30/23, 22:30 - '>\n",
      "<re.Match object; span=(3592, 3610), match='12/30/23, 22:30 - '>\n",
      "<re.Match object; span=(3625, 3643), match='12/30/23, 22:31 - '>\n",
      "<re.Match object; span=(3732, 3750), match='12/30/23, 22:31 - '>\n",
      "<re.Match object; span=(3834, 3852), match='12/30/23, 22:31 - '>\n",
      "<re.Match object; span=(3867, 3885), match='12/30/23, 22:32 - '>\n",
      "<re.Match object; span=(3906, 3924), match='12/30/23, 22:32 - '>\n",
      "<re.Match object; span=(3952, 3970), match='12/30/23, 22:32 - '>\n",
      "<re.Match object; span=(4006, 4024), match='12/30/23, 22:34 - '>\n"
     ]
    }
   ],
   "source": [
    "pattern ='\\d{1,2}\\/\\d{1,2}\\/\\d{2},\\s\\d{1,2}:\\d{2}\\s(?:am\\s|pm\\s)?-\\s'\n",
    "for i in re.finditer(pattern,data1):\n",
    "    print(i)"
   ]
  },
  {
   "cell_type": "code",
   "execution_count": 119,
   "id": "d2e9c193",
   "metadata": {
    "scrolled": true
   },
   "outputs": [
    {
     "name": "stdout",
     "output_type": "stream",
     "text": [
      "<re.Match object; span=(0, 21), match='12/30/23, 10:05 pm - '>\n",
      "<re.Match object; span=(161, 182), match='12/30/23, 10:05 pm - '>\n",
      "<re.Match object; span=(213, 234), match='12/30/23, 10:06 pm - '>\n",
      "<re.Match object; span=(270, 291), match='12/30/23, 10:07 pm - '>\n",
      "<re.Match object; span=(372, 393), match='12/30/23, 10:08 pm - '>\n",
      "<re.Match object; span=(490, 511), match='12/30/23, 10:09 pm - '>\n",
      "<re.Match object; span=(543, 564), match='12/30/23, 10:09 pm - '>\n",
      "<re.Match object; span=(586, 607), match='12/30/23, 10:12 pm - '>\n",
      "<re.Match object; span=(697, 718), match='12/30/23, 10:13 pm - '>\n",
      "<re.Match object; span=(780, 801), match='12/30/23, 10:18 pm - '>\n",
      "<re.Match object; span=(820, 841), match='12/30/23, 10:18 pm - '>\n",
      "<re.Match object; span=(872, 893), match='12/30/23, 10:19 pm - '>\n",
      "<re.Match object; span=(916, 937), match='12/30/23, 10:19 pm - '>\n",
      "<re.Match object; span=(986, 1007), match='12/30/23, 10:19 pm - '>\n",
      "<re.Match object; span=(1029, 1050), match='12/30/23, 10:20 pm - '>\n",
      "<re.Match object; span=(1121, 1142), match='12/30/23, 10:20 pm - '>\n",
      "<re.Match object; span=(1186, 1207), match='12/30/23, 10:20 pm - '>\n",
      "<re.Match object; span=(1223, 1244), match='12/30/23, 10:20 pm - '>\n",
      "<re.Match object; span=(1276, 1297), match='12/30/23, 10:21 pm - '>\n",
      "<re.Match object; span=(1323, 1344), match='12/30/23, 10:21 pm - '>\n",
      "<re.Match object; span=(1412, 1433), match='12/30/23, 10:21 pm - '>\n",
      "<re.Match object; span=(1448, 1469), match='12/30/23, 10:21 pm - '>\n",
      "<re.Match object; span=(1507, 1528), match='12/30/23, 10:21 pm - '>\n",
      "<re.Match object; span=(1561, 1582), match='12/30/23, 10:22 pm - '>\n",
      "<re.Match object; span=(1627, 1648), match='12/30/23, 10:22 pm - '>\n",
      "<re.Match object; span=(1668, 1689), match='12/30/23, 10:22 pm - '>\n",
      "<re.Match object; span=(1749, 1770), match='12/30/23, 10:23 pm - '>\n",
      "<re.Match object; span=(1811, 1832), match='12/30/23, 10:23 pm - '>\n",
      "<re.Match object; span=(1903, 1924), match='12/30/23, 10:23 pm - '>\n",
      "<re.Match object; span=(1945, 1966), match='12/30/23, 10:24 pm - '>\n",
      "<re.Match object; span=(2028, 2049), match='12/30/23, 10:24 pm - '>\n",
      "<re.Match object; span=(2070, 2091), match='12/30/23, 10:24 pm - '>\n",
      "<re.Match object; span=(2121, 2142), match='12/30/23, 10:24 pm - '>\n",
      "<re.Match object; span=(2163, 2184), match='12/30/23, 10:25 pm - '>\n",
      "<re.Match object; span=(2242, 2263), match='12/30/23, 10:25 pm - '>\n",
      "<re.Match object; span=(2318, 2339), match='12/30/23, 10:25 pm - '>\n",
      "<re.Match object; span=(2360, 2381), match='12/30/23, 10:26 pm - '>\n",
      "<re.Match object; span=(2427, 2448), match='12/30/23, 10:26 pm - '>\n",
      "<re.Match object; span=(2504, 2525), match='12/30/23, 10:26 pm - '>\n",
      "<re.Match object; span=(2562, 2583), match='12/30/23, 10:26 pm - '>\n",
      "<re.Match object; span=(2612, 2633), match='12/30/23, 10:27 pm - '>\n",
      "<re.Match object; span=(2692, 2713), match='12/30/23, 10:27 pm - '>\n",
      "<re.Match object; span=(2778, 2799), match='12/30/23, 10:27 pm - '>\n",
      "<re.Match object; span=(2817, 2838), match='12/30/23, 10:27 pm - '>\n",
      "<re.Match object; span=(2893, 2914), match='12/30/23, 10:27 pm - '>\n",
      "<re.Match object; span=(2968, 2989), match='12/30/23, 10:27 pm - '>\n",
      "<re.Match object; span=(3016, 3037), match='12/30/23, 10:27 pm - '>\n",
      "<re.Match object; span=(3081, 3102), match='12/30/23, 10:27 pm - '>\n",
      "<re.Match object; span=(3128, 3149), match='12/30/23, 10:27 pm - '>\n",
      "<re.Match object; span=(3162, 3183), match='12/30/23, 10:28 pm - '>\n",
      "<re.Match object; span=(3221, 3242), match='12/30/23, 10:28 pm - '>\n",
      "<re.Match object; span=(3272, 3293), match='12/30/23, 10:28 pm - '>\n",
      "<re.Match object; span=(3327, 3348), match='12/30/23, 10:28 pm - '>\n",
      "<re.Match object; span=(3398, 3419), match='12/30/23, 10:28 pm - '>\n",
      "<re.Match object; span=(3451, 3472), match='12/30/23, 10:29 pm - '>\n",
      "<re.Match object; span=(3491, 3512), match='12/30/23, 10:29 pm - '>\n",
      "<re.Match object; span=(3570, 3591), match='12/30/23, 10:29 pm - '>\n",
      "<re.Match object; span=(3661, 3682), match='12/30/23, 10:30 pm - '>\n",
      "<re.Match object; span=(3717, 3738), match='12/30/23, 10:30 pm - '>\n",
      "<re.Match object; span=(3769, 3790), match='12/30/23, 10:30 pm - '>\n",
      "<re.Match object; span=(3805, 3826), match='12/30/23, 10:31 pm - '>\n",
      "<re.Match object; span=(3915, 3936), match='12/30/23, 10:31 pm - '>\n",
      "<re.Match object; span=(4020, 4041), match='12/30/23, 10:31 pm - '>\n",
      "<re.Match object; span=(4056, 4077), match='12/30/23, 10:32 pm - '>\n",
      "<re.Match object; span=(4098, 4119), match='12/30/23, 10:32 pm - '>\n",
      "<re.Match object; span=(4147, 4168), match='12/30/23, 10:32 pm - '>\n",
      "<re.Match object; span=(4204, 4225), match='12/30/23, 10:34 pm - '>\n"
     ]
    }
   ],
   "source": [
    "for i in re.finditer(pattern,data2):\n",
    "    print(i)\n"
   ]
  },
  {
   "cell_type": "markdown",
   "id": "d5576d6d",
   "metadata": {},
   "source": [
    "### Extracting messages  of data1"
   ]
  },
  {
   "cell_type": "code",
   "execution_count": 13,
   "id": "cca30539",
   "metadata": {},
   "outputs": [
    {
     "data": {
      "text/plain": [
       "['Messages and calls are end-to-end encrypted. No one outside of this chat, not even WhatsApp, can read or listen to them. Tap to learn more.\\n',\n",
       " 'You created group \"Discussion\"\\n',\n",
       " 'Pranesh Chowdhury: Hi, How are you?\\n',\n",
       " 'Pranesh Chowdhury: I am trying to make a message dataset for our python project.\\n',\n",
       " 'Pranesh Chowdhury: Please message in english. Because our analysis work on the English language.\\n']"
      ]
     },
     "execution_count": 13,
     "metadata": {},
     "output_type": "execute_result"
    }
   ],
   "source": [
    "\n",
    "messages_data1 = re.split(pattern,data1)[1:] \n",
    "messages_data1[:5]"
   ]
  },
  {
   "cell_type": "markdown",
   "id": "49993f6d",
   "metadata": {},
   "source": [
    "### Extracting messages of data2"
   ]
  },
  {
   "cell_type": "code",
   "execution_count": 120,
   "id": "b5a2d370",
   "metadata": {},
   "outputs": [
    {
     "data": {
      "text/plain": [
       "['Messages and calls are end-to-end encrypted. No one outside of this chat, not even WhatsApp, can read or listen to them. Tap to learn more.\\n',\n",
       " 'You created group \"Discussion\"\\n',\n",
       " 'Pranesh Chowdhury: Hi, How are you?\\n',\n",
       " 'Pranesh Chowdhury: I am trying to make a message dataset for our python project.\\n',\n",
       " 'Pranesh Chowdhury: Please message in english. Because our analysis work on the English language.\\n']"
      ]
     },
     "execution_count": 120,
     "metadata": {},
     "output_type": "execute_result"
    }
   ],
   "source": [
    "\n",
    "messages_data2 = re.split(pattern,data2)[1:]\n",
    "messages_data2[:5]"
   ]
  },
  {
   "cell_type": "markdown",
   "id": "766072b0",
   "metadata": {},
   "source": [
    "### Extracting dates of data1"
   ]
  },
  {
   "cell_type": "code",
   "execution_count": 14,
   "id": "bb512125",
   "metadata": {},
   "outputs": [
    {
     "data": {
      "text/plain": [
       "['12/30/23, 22:05 - ',\n",
       " '12/30/23, 22:05 - ',\n",
       " '12/30/23, 22:06 - ',\n",
       " '12/30/23, 22:07 - ',\n",
       " '12/30/23, 22:08 - ']"
      ]
     },
     "execution_count": 14,
     "metadata": {},
     "output_type": "execute_result"
    }
   ],
   "source": [
    "dates_data1 = re.findall(pattern,data1)\n",
    "dates_data1[:5]"
   ]
  },
  {
   "cell_type": "markdown",
   "id": "878cba14",
   "metadata": {},
   "source": [
    "### Extracting dates of data2"
   ]
  },
  {
   "cell_type": "code",
   "execution_count": 16,
   "id": "22b5c5ca",
   "metadata": {},
   "outputs": [
    {
     "data": {
      "text/plain": [
       "['12/30/23, 10:05 pm - ',\n",
       " '12/30/23, 10:05 pm - ',\n",
       " '12/30/23, 10:06 pm - ',\n",
       " '12/30/23, 10:07 pm - ',\n",
       " '12/30/23, 10:08 pm - ']"
      ]
     },
     "execution_count": 16,
     "metadata": {},
     "output_type": "execute_result"
    }
   ],
   "source": [
    "dates_data2 = re.findall(pattern,data2)\n",
    "dates_data2[:5]"
   ]
  },
  {
   "cell_type": "markdown",
   "id": "e59b1a5c",
   "metadata": {},
   "source": [
    "### Creating dataframes"
   ]
  },
  {
   "cell_type": "code",
   "execution_count": 123,
   "id": "b591cd19",
   "metadata": {},
   "outputs": [],
   "source": [
    "df1 = pd.DataFrame({'Dates':dates_data1,'Messages':messages_data1})"
   ]
  },
  {
   "cell_type": "code",
   "execution_count": 124,
   "id": "492ab5c6",
   "metadata": {},
   "outputs": [],
   "source": [
    "df2 = pd.DataFrame({'Dates':dates_data2,'Messages':messages_data2})"
   ]
  },
  {
   "cell_type": "code",
   "execution_count": 125,
   "id": "a6ab7142",
   "metadata": {},
   "outputs": [
    {
     "data": {
      "text/html": [
       "<div>\n",
       "<style scoped>\n",
       "    .dataframe tbody tr th:only-of-type {\n",
       "        vertical-align: middle;\n",
       "    }\n",
       "\n",
       "    .dataframe tbody tr th {\n",
       "        vertical-align: top;\n",
       "    }\n",
       "\n",
       "    .dataframe thead th {\n",
       "        text-align: right;\n",
       "    }\n",
       "</style>\n",
       "<table border=\"1\" class=\"dataframe\">\n",
       "  <thead>\n",
       "    <tr style=\"text-align: right;\">\n",
       "      <th></th>\n",
       "      <th>Dates</th>\n",
       "      <th>Messages</th>\n",
       "    </tr>\n",
       "  </thead>\n",
       "  <tbody>\n",
       "    <tr>\n",
       "      <th>0</th>\n",
       "      <td>12/30/23, 22:05 -</td>\n",
       "      <td>Messages and calls are end-to-end encrypted. N...</td>\n",
       "    </tr>\n",
       "    <tr>\n",
       "      <th>1</th>\n",
       "      <td>12/30/23, 22:05 -</td>\n",
       "      <td>You created group \"Discussion\"\\n</td>\n",
       "    </tr>\n",
       "    <tr>\n",
       "      <th>2</th>\n",
       "      <td>12/30/23, 22:06 -</td>\n",
       "      <td>Pranesh Chowdhury: Hi, How are you?\\n</td>\n",
       "    </tr>\n",
       "    <tr>\n",
       "      <th>3</th>\n",
       "      <td>12/30/23, 22:07 -</td>\n",
       "      <td>Pranesh Chowdhury: I am trying to make a messa...</td>\n",
       "    </tr>\n",
       "    <tr>\n",
       "      <th>4</th>\n",
       "      <td>12/30/23, 22:08 -</td>\n",
       "      <td>Pranesh Chowdhury: Please message in english. ...</td>\n",
       "    </tr>\n",
       "  </tbody>\n",
       "</table>\n",
       "</div>"
      ],
      "text/plain": [
       "                Dates                                           Messages\n",
       "0  12/30/23, 22:05 -   Messages and calls are end-to-end encrypted. N...\n",
       "1  12/30/23, 22:05 -                    You created group \"Discussion\"\\n\n",
       "2  12/30/23, 22:06 -               Pranesh Chowdhury: Hi, How are you?\\n\n",
       "3  12/30/23, 22:07 -   Pranesh Chowdhury: I am trying to make a messa...\n",
       "4  12/30/23, 22:08 -   Pranesh Chowdhury: Please message in english. ..."
      ]
     },
     "execution_count": 125,
     "metadata": {},
     "output_type": "execute_result"
    }
   ],
   "source": [
    "df1.head()"
   ]
  },
  {
   "cell_type": "code",
   "execution_count": 126,
   "id": "b3be432e",
   "metadata": {},
   "outputs": [
    {
     "data": {
      "text/html": [
       "<div>\n",
       "<style scoped>\n",
       "    .dataframe tbody tr th:only-of-type {\n",
       "        vertical-align: middle;\n",
       "    }\n",
       "\n",
       "    .dataframe tbody tr th {\n",
       "        vertical-align: top;\n",
       "    }\n",
       "\n",
       "    .dataframe thead th {\n",
       "        text-align: right;\n",
       "    }\n",
       "</style>\n",
       "<table border=\"1\" class=\"dataframe\">\n",
       "  <thead>\n",
       "    <tr style=\"text-align: right;\">\n",
       "      <th></th>\n",
       "      <th>Dates</th>\n",
       "      <th>Messages</th>\n",
       "    </tr>\n",
       "  </thead>\n",
       "  <tbody>\n",
       "    <tr>\n",
       "      <th>0</th>\n",
       "      <td>12/30/23, 10:05 pm -</td>\n",
       "      <td>Messages and calls are end-to-end encrypted. N...</td>\n",
       "    </tr>\n",
       "    <tr>\n",
       "      <th>1</th>\n",
       "      <td>12/30/23, 10:05 pm -</td>\n",
       "      <td>You created group \"Discussion\"\\n</td>\n",
       "    </tr>\n",
       "    <tr>\n",
       "      <th>2</th>\n",
       "      <td>12/30/23, 10:06 pm -</td>\n",
       "      <td>Pranesh Chowdhury: Hi, How are you?\\n</td>\n",
       "    </tr>\n",
       "    <tr>\n",
       "      <th>3</th>\n",
       "      <td>12/30/23, 10:07 pm -</td>\n",
       "      <td>Pranesh Chowdhury: I am trying to make a messa...</td>\n",
       "    </tr>\n",
       "    <tr>\n",
       "      <th>4</th>\n",
       "      <td>12/30/23, 10:08 pm -</td>\n",
       "      <td>Pranesh Chowdhury: Please message in english. ...</td>\n",
       "    </tr>\n",
       "  </tbody>\n",
       "</table>\n",
       "</div>"
      ],
      "text/plain": [
       "                   Dates                                           Messages\n",
       "0  12/30/23, 10:05 pm -   Messages and calls are end-to-end encrypted. N...\n",
       "1  12/30/23, 10:05 pm -                    You created group \"Discussion\"\\n\n",
       "2  12/30/23, 10:06 pm -               Pranesh Chowdhury: Hi, How are you?\\n\n",
       "3  12/30/23, 10:07 pm -   Pranesh Chowdhury: I am trying to make a messa...\n",
       "4  12/30/23, 10:08 pm -   Pranesh Chowdhury: Please message in english. ..."
      ]
     },
     "execution_count": 126,
     "metadata": {},
     "output_type": "execute_result"
    }
   ],
   "source": [
    "df2.head()"
   ]
  },
  {
   "cell_type": "markdown",
   "id": "7a2d85f5",
   "metadata": {},
   "source": [
    "## Extracting usernames and messages from dataframe 1. (df1)"
   ]
  },
  {
   "cell_type": "code",
   "execution_count": 127,
   "id": "49673b72",
   "metadata": {},
   "outputs": [],
   "source": [
    "\n",
    "usernames1 = list()\n",
    "messages1 = list()\n",
    "for i in df1['Messages']:\n",
    "    values = re.split('([\\w\\W]+):\\s',i)\n",
    "    \n",
    "    if len(values)>2:\n",
    "        usernames1.append(values[1])\n",
    "        messages1.append(values[2])\n",
    "    else:\n",
    "        usernames1.append('Notifications')\n",
    "        messages1.append(values[0])\n",
    "    "
   ]
  },
  {
   "cell_type": "code",
   "execution_count": 128,
   "id": "c12be66d",
   "metadata": {},
   "outputs": [
    {
     "name": "stdout",
     "output_type": "stream",
     "text": [
      "67\n",
      "67\n"
     ]
    }
   ],
   "source": [
    "print(len(messages1))\n",
    "print(len(usernames1))"
   ]
  },
  {
   "cell_type": "markdown",
   "id": "394de5ba",
   "metadata": {},
   "source": [
    "# Adding to df1 and droping unecessary column \"Messages\""
   ]
  },
  {
   "cell_type": "code",
   "execution_count": 129,
   "id": "ae9b98c7",
   "metadata": {},
   "outputs": [],
   "source": [
    "df1['User'] = usernames1\n",
    "df1['Message'] = messages1\n",
    "df1.drop(columns='Messages',inplace=True)"
   ]
  },
  {
   "cell_type": "code",
   "execution_count": 130,
   "id": "218c01f0",
   "metadata": {},
   "outputs": [
    {
     "data": {
      "text/html": [
       "<div>\n",
       "<style scoped>\n",
       "    .dataframe tbody tr th:only-of-type {\n",
       "        vertical-align: middle;\n",
       "    }\n",
       "\n",
       "    .dataframe tbody tr th {\n",
       "        vertical-align: top;\n",
       "    }\n",
       "\n",
       "    .dataframe thead th {\n",
       "        text-align: right;\n",
       "    }\n",
       "</style>\n",
       "<table border=\"1\" class=\"dataframe\">\n",
       "  <thead>\n",
       "    <tr style=\"text-align: right;\">\n",
       "      <th></th>\n",
       "      <th>Dates</th>\n",
       "      <th>User</th>\n",
       "      <th>Message</th>\n",
       "    </tr>\n",
       "  </thead>\n",
       "  <tbody>\n",
       "    <tr>\n",
       "      <th>0</th>\n",
       "      <td>12/30/23, 22:05 -</td>\n",
       "      <td>Notifications</td>\n",
       "      <td>Messages and calls are end-to-end encrypted. N...</td>\n",
       "    </tr>\n",
       "    <tr>\n",
       "      <th>1</th>\n",
       "      <td>12/30/23, 22:05 -</td>\n",
       "      <td>Notifications</td>\n",
       "      <td>You created group \"Discussion\"\\n</td>\n",
       "    </tr>\n",
       "    <tr>\n",
       "      <th>2</th>\n",
       "      <td>12/30/23, 22:06 -</td>\n",
       "      <td>Pranesh Chowdhury</td>\n",
       "      <td>Hi, How are you?\\n</td>\n",
       "    </tr>\n",
       "    <tr>\n",
       "      <th>3</th>\n",
       "      <td>12/30/23, 22:07 -</td>\n",
       "      <td>Pranesh Chowdhury</td>\n",
       "      <td>I am trying to make a message dataset for our ...</td>\n",
       "    </tr>\n",
       "    <tr>\n",
       "      <th>4</th>\n",
       "      <td>12/30/23, 22:08 -</td>\n",
       "      <td>Pranesh Chowdhury</td>\n",
       "      <td>Please message in english. Because our analysi...</td>\n",
       "    </tr>\n",
       "    <tr>\n",
       "      <th>...</th>\n",
       "      <td>...</td>\n",
       "      <td>...</td>\n",
       "      <td>...</td>\n",
       "    </tr>\n",
       "    <tr>\n",
       "      <th>62</th>\n",
       "      <td>12/30/23, 22:31 -</td>\n",
       "      <td>Ayaz EDU</td>\n",
       "      <td>Okay\\n</td>\n",
       "    </tr>\n",
       "    <tr>\n",
       "      <th>63</th>\n",
       "      <td>12/30/23, 22:32 -</td>\n",
       "      <td>Ayaz EDU</td>\n",
       "      <td>Let me see\\n</td>\n",
       "    </tr>\n",
       "    <tr>\n",
       "      <th>64</th>\n",
       "      <td>12/30/23, 22:32 -</td>\n",
       "      <td>Pranesh Chowdhury</td>\n",
       "      <td>ok, bro.\\n</td>\n",
       "    </tr>\n",
       "    <tr>\n",
       "      <th>65</th>\n",
       "      <td>12/30/23, 22:32 -</td>\n",
       "      <td>Pranesh Chowdhury</td>\n",
       "      <td>Have a good day.\\n</td>\n",
       "    </tr>\n",
       "    <tr>\n",
       "      <th>66</th>\n",
       "      <td>12/30/23, 22:34 -</td>\n",
       "      <td>Ayaz EDU</td>\n",
       "      <td>You, too\\n</td>\n",
       "    </tr>\n",
       "  </tbody>\n",
       "</table>\n",
       "<p>67 rows × 3 columns</p>\n",
       "</div>"
      ],
      "text/plain": [
       "                 Dates               User  \\\n",
       "0   12/30/23, 22:05 -       Notifications   \n",
       "1   12/30/23, 22:05 -       Notifications   \n",
       "2   12/30/23, 22:06 -   Pranesh Chowdhury   \n",
       "3   12/30/23, 22:07 -   Pranesh Chowdhury   \n",
       "4   12/30/23, 22:08 -   Pranesh Chowdhury   \n",
       "..                 ...                ...   \n",
       "62  12/30/23, 22:31 -            Ayaz EDU   \n",
       "63  12/30/23, 22:32 -            Ayaz EDU   \n",
       "64  12/30/23, 22:32 -   Pranesh Chowdhury   \n",
       "65  12/30/23, 22:32 -   Pranesh Chowdhury   \n",
       "66  12/30/23, 22:34 -            Ayaz EDU   \n",
       "\n",
       "                                              Message  \n",
       "0   Messages and calls are end-to-end encrypted. N...  \n",
       "1                    You created group \"Discussion\"\\n  \n",
       "2                                  Hi, How are you?\\n  \n",
       "3   I am trying to make a message dataset for our ...  \n",
       "4   Please message in english. Because our analysi...  \n",
       "..                                                ...  \n",
       "62                                             Okay\\n  \n",
       "63                                       Let me see\\n  \n",
       "64                                         ok, bro.\\n  \n",
       "65                                 Have a good day.\\n  \n",
       "66                                         You, too\\n  \n",
       "\n",
       "[67 rows x 3 columns]"
      ]
     },
     "execution_count": 130,
     "metadata": {},
     "output_type": "execute_result"
    }
   ],
   "source": [
    "df1"
   ]
  },
  {
   "cell_type": "markdown",
   "id": "179f7e5a",
   "metadata": {},
   "source": [
    "## Extracting user name and messages of dataframe 2. (df2)"
   ]
  },
  {
   "cell_type": "code",
   "execution_count": 131,
   "id": "68cda7de",
   "metadata": {},
   "outputs": [],
   "source": [
    "\n",
    "usernames2 = list()\n",
    "messages2 = list()\n",
    "for i in df2['Messages']:\n",
    "    values = re.split('([\\w\\W]+):\\s',i)\n",
    "    \n",
    "    if len(values)>2:\n",
    "        usernames2.append(values[1])\n",
    "        messages2.append(values[2])\n",
    "    else:\n",
    "        usernames2.append('Notifications')\n",
    "        messages2.append(values[0])"
   ]
  },
  {
   "cell_type": "markdown",
   "id": "eea86303",
   "metadata": {},
   "source": [
    "### Adding to df2 and droping unecessary column \"Messages\""
   ]
  },
  {
   "cell_type": "code",
   "execution_count": 134,
   "id": "efd1b75a",
   "metadata": {},
   "outputs": [],
   "source": [
    "\n",
    "df2['User'] = usernames2\n",
    "df2['Message'] = messages2\n",
    "df2.drop(columns='Messages',inplace=True)"
   ]
  },
  {
   "cell_type": "code",
   "execution_count": 135,
   "id": "1fcc090e",
   "metadata": {},
   "outputs": [
    {
     "data": {
      "text/html": [
       "<div>\n",
       "<style scoped>\n",
       "    .dataframe tbody tr th:only-of-type {\n",
       "        vertical-align: middle;\n",
       "    }\n",
       "\n",
       "    .dataframe tbody tr th {\n",
       "        vertical-align: top;\n",
       "    }\n",
       "\n",
       "    .dataframe thead th {\n",
       "        text-align: right;\n",
       "    }\n",
       "</style>\n",
       "<table border=\"1\" class=\"dataframe\">\n",
       "  <thead>\n",
       "    <tr style=\"text-align: right;\">\n",
       "      <th></th>\n",
       "      <th>Dates</th>\n",
       "      <th>User</th>\n",
       "      <th>Message</th>\n",
       "    </tr>\n",
       "  </thead>\n",
       "  <tbody>\n",
       "    <tr>\n",
       "      <th>0</th>\n",
       "      <td>12/30/23, 10:05 pm -</td>\n",
       "      <td>Notifications</td>\n",
       "      <td>Messages and calls are end-to-end encrypted. N...</td>\n",
       "    </tr>\n",
       "    <tr>\n",
       "      <th>1</th>\n",
       "      <td>12/30/23, 10:05 pm -</td>\n",
       "      <td>Notifications</td>\n",
       "      <td>You created group \"Discussion\"\\n</td>\n",
       "    </tr>\n",
       "    <tr>\n",
       "      <th>2</th>\n",
       "      <td>12/30/23, 10:06 pm -</td>\n",
       "      <td>Pranesh Chowdhury</td>\n",
       "      <td>Hi, How are you?\\n</td>\n",
       "    </tr>\n",
       "    <tr>\n",
       "      <th>3</th>\n",
       "      <td>12/30/23, 10:07 pm -</td>\n",
       "      <td>Pranesh Chowdhury</td>\n",
       "      <td>I am trying to make a message dataset for our ...</td>\n",
       "    </tr>\n",
       "    <tr>\n",
       "      <th>4</th>\n",
       "      <td>12/30/23, 10:08 pm -</td>\n",
       "      <td>Pranesh Chowdhury</td>\n",
       "      <td>Please message in english. Because our analysi...</td>\n",
       "    </tr>\n",
       "    <tr>\n",
       "      <th>...</th>\n",
       "      <td>...</td>\n",
       "      <td>...</td>\n",
       "      <td>...</td>\n",
       "    </tr>\n",
       "    <tr>\n",
       "      <th>62</th>\n",
       "      <td>12/30/23, 10:31 pm -</td>\n",
       "      <td>Ayaz EDU</td>\n",
       "      <td>Okay\\n</td>\n",
       "    </tr>\n",
       "    <tr>\n",
       "      <th>63</th>\n",
       "      <td>12/30/23, 10:32 pm -</td>\n",
       "      <td>Ayaz EDU</td>\n",
       "      <td>Let me see\\n</td>\n",
       "    </tr>\n",
       "    <tr>\n",
       "      <th>64</th>\n",
       "      <td>12/30/23, 10:32 pm -</td>\n",
       "      <td>Pranesh Chowdhury</td>\n",
       "      <td>ok, bro.\\n</td>\n",
       "    </tr>\n",
       "    <tr>\n",
       "      <th>65</th>\n",
       "      <td>12/30/23, 10:32 pm -</td>\n",
       "      <td>Pranesh Chowdhury</td>\n",
       "      <td>Have a good day.\\n</td>\n",
       "    </tr>\n",
       "    <tr>\n",
       "      <th>66</th>\n",
       "      <td>12/30/23, 10:34 pm -</td>\n",
       "      <td>Ayaz EDU</td>\n",
       "      <td>You, toopm\\n</td>\n",
       "    </tr>\n",
       "  </tbody>\n",
       "</table>\n",
       "<p>67 rows × 3 columns</p>\n",
       "</div>"
      ],
      "text/plain": [
       "                    Dates               User  \\\n",
       "0   12/30/23, 10:05 pm -       Notifications   \n",
       "1   12/30/23, 10:05 pm -       Notifications   \n",
       "2   12/30/23, 10:06 pm -   Pranesh Chowdhury   \n",
       "3   12/30/23, 10:07 pm -   Pranesh Chowdhury   \n",
       "4   12/30/23, 10:08 pm -   Pranesh Chowdhury   \n",
       "..                    ...                ...   \n",
       "62  12/30/23, 10:31 pm -            Ayaz EDU   \n",
       "63  12/30/23, 10:32 pm -            Ayaz EDU   \n",
       "64  12/30/23, 10:32 pm -   Pranesh Chowdhury   \n",
       "65  12/30/23, 10:32 pm -   Pranesh Chowdhury   \n",
       "66  12/30/23, 10:34 pm -            Ayaz EDU   \n",
       "\n",
       "                                              Message  \n",
       "0   Messages and calls are end-to-end encrypted. N...  \n",
       "1                    You created group \"Discussion\"\\n  \n",
       "2                                  Hi, How are you?\\n  \n",
       "3   I am trying to make a message dataset for our ...  \n",
       "4   Please message in english. Because our analysi...  \n",
       "..                                                ...  \n",
       "62                                             Okay\\n  \n",
       "63                                       Let me see\\n  \n",
       "64                                         ok, bro.\\n  \n",
       "65                                 Have a good day.\\n  \n",
       "66                                       You, toopm\\n  \n",
       "\n",
       "[67 rows x 3 columns]"
      ]
     },
     "execution_count": 135,
     "metadata": {},
     "output_type": "execute_result"
    }
   ],
   "source": [
    "df2"
   ]
  },
  {
   "cell_type": "markdown",
   "id": "c7ff2edc",
   "metadata": {},
   "source": [
    " **we can see that we are able to extract user and message seperately.\n",
    " Hence out pattern is working with both 12 hour and 24 hour format,\n",
    " so we can create our function now**"
   ]
  },
  {
   "cell_type": "code",
   "execution_count": 143,
   "id": "2d31bcc5",
   "metadata": {},
   "outputs": [],
   "source": [
    "def preprocessor(data='string'):\n",
    "    pattern ='\\d{1,2}\\/\\d{1,2}\\/\\d{2},\\s\\d{1,2}:\\d{2}\\s(?:am\\s|pm\\s)?-\\s'\n",
    "    messages = re.split(pattern,data)[1:]\n",
    "    dates = re.findall(pattern,data)\n",
    "    df = pd.DataFrame({'Dates':dates,'Messages':messages})\n",
    "    usernames = list()\n",
    "    messages = list()\n",
    "    \n",
    "    for i in df['Messages']:\n",
    "        values = re.split('([\\w\\W]+):\\s',i)\n",
    "\n",
    "        if len(values)>2:\n",
    "            usernames.append(values[1])\n",
    "            messages.append(values[2])\n",
    "        else:\n",
    "            usernames.append('Notifications')\n",
    "            messages.append(values[0])\n",
    "    df['User'] = usernames\n",
    "    df['Message'] = messages\n",
    "    df.drop(columns='Messages',inplace=True)\n",
    "    return df"
   ]
  },
  {
   "cell_type": "markdown",
   "id": "91e75042",
   "metadata": {},
   "source": [
    "# Tesing our function"
   ]
  },
  {
   "cell_type": "code",
   "execution_count": 138,
   "id": "14953887",
   "metadata": {},
   "outputs": [
    {
     "data": {
      "text/html": [
       "<div>\n",
       "<style scoped>\n",
       "    .dataframe tbody tr th:only-of-type {\n",
       "        vertical-align: middle;\n",
       "    }\n",
       "\n",
       "    .dataframe tbody tr th {\n",
       "        vertical-align: top;\n",
       "    }\n",
       "\n",
       "    .dataframe thead th {\n",
       "        text-align: right;\n",
       "    }\n",
       "</style>\n",
       "<table border=\"1\" class=\"dataframe\">\n",
       "  <thead>\n",
       "    <tr style=\"text-align: right;\">\n",
       "      <th></th>\n",
       "      <th>Dates</th>\n",
       "      <th>User</th>\n",
       "      <th>Message</th>\n",
       "    </tr>\n",
       "  </thead>\n",
       "  <tbody>\n",
       "    <tr>\n",
       "      <th>0</th>\n",
       "      <td>12/30/23, 22:05 -</td>\n",
       "      <td>Notifications</td>\n",
       "      <td>Messages and calls are end-to-end encrypted. N...</td>\n",
       "    </tr>\n",
       "    <tr>\n",
       "      <th>1</th>\n",
       "      <td>12/30/23, 22:05 -</td>\n",
       "      <td>Notifications</td>\n",
       "      <td>You created group \"Discussion\"\\n</td>\n",
       "    </tr>\n",
       "    <tr>\n",
       "      <th>2</th>\n",
       "      <td>12/30/23, 22:06 -</td>\n",
       "      <td>Pranesh Chowdhury</td>\n",
       "      <td>Hi, How are you?\\n</td>\n",
       "    </tr>\n",
       "    <tr>\n",
       "      <th>3</th>\n",
       "      <td>12/30/23, 22:07 -</td>\n",
       "      <td>Pranesh Chowdhury</td>\n",
       "      <td>I am trying to make a message dataset for our ...</td>\n",
       "    </tr>\n",
       "    <tr>\n",
       "      <th>4</th>\n",
       "      <td>12/30/23, 22:08 -</td>\n",
       "      <td>Pranesh Chowdhury</td>\n",
       "      <td>Please message in english. Because our analysi...</td>\n",
       "    </tr>\n",
       "  </tbody>\n",
       "</table>\n",
       "</div>"
      ],
      "text/plain": [
       "                Dates               User  \\\n",
       "0  12/30/23, 22:05 -       Notifications   \n",
       "1  12/30/23, 22:05 -       Notifications   \n",
       "2  12/30/23, 22:06 -   Pranesh Chowdhury   \n",
       "3  12/30/23, 22:07 -   Pranesh Chowdhury   \n",
       "4  12/30/23, 22:08 -   Pranesh Chowdhury   \n",
       "\n",
       "                                             Message  \n",
       "0  Messages and calls are end-to-end encrypted. N...  \n",
       "1                   You created group \"Discussion\"\\n  \n",
       "2                                 Hi, How are you?\\n  \n",
       "3  I am trying to make a message dataset for our ...  \n",
       "4  Please message in english. Because our analysi...  "
      ]
     },
     "execution_count": 138,
     "metadata": {},
     "output_type": "execute_result"
    }
   ],
   "source": [
    "\n",
    "_24h_format_data= preprocessor(data1)\n",
    "_24h_format_data.head()"
   ]
  },
  {
   "cell_type": "code",
   "execution_count": 139,
   "id": "f8919f16",
   "metadata": {},
   "outputs": [
    {
     "data": {
      "text/html": [
       "<div>\n",
       "<style scoped>\n",
       "    .dataframe tbody tr th:only-of-type {\n",
       "        vertical-align: middle;\n",
       "    }\n",
       "\n",
       "    .dataframe tbody tr th {\n",
       "        vertical-align: top;\n",
       "    }\n",
       "\n",
       "    .dataframe thead th {\n",
       "        text-align: right;\n",
       "    }\n",
       "</style>\n",
       "<table border=\"1\" class=\"dataframe\">\n",
       "  <thead>\n",
       "    <tr style=\"text-align: right;\">\n",
       "      <th></th>\n",
       "      <th>Dates</th>\n",
       "      <th>User</th>\n",
       "      <th>Message</th>\n",
       "    </tr>\n",
       "  </thead>\n",
       "  <tbody>\n",
       "    <tr>\n",
       "      <th>0</th>\n",
       "      <td>12/30/23, 10:05 pm -</td>\n",
       "      <td>Notifications</td>\n",
       "      <td>Messages and calls are end-to-end encrypted. N...</td>\n",
       "    </tr>\n",
       "    <tr>\n",
       "      <th>1</th>\n",
       "      <td>12/30/23, 10:05 pm -</td>\n",
       "      <td>Notifications</td>\n",
       "      <td>You created group \"Discussion\"\\n</td>\n",
       "    </tr>\n",
       "    <tr>\n",
       "      <th>2</th>\n",
       "      <td>12/30/23, 10:06 pm -</td>\n",
       "      <td>Pranesh Chowdhury</td>\n",
       "      <td>Hi, How are you?\\n</td>\n",
       "    </tr>\n",
       "    <tr>\n",
       "      <th>3</th>\n",
       "      <td>12/30/23, 10:07 pm -</td>\n",
       "      <td>Pranesh Chowdhury</td>\n",
       "      <td>I am trying to make a message dataset for our ...</td>\n",
       "    </tr>\n",
       "    <tr>\n",
       "      <th>4</th>\n",
       "      <td>12/30/23, 10:08 pm -</td>\n",
       "      <td>Pranesh Chowdhury</td>\n",
       "      <td>Please message in english. Because our analysi...</td>\n",
       "    </tr>\n",
       "  </tbody>\n",
       "</table>\n",
       "</div>"
      ],
      "text/plain": [
       "                   Dates               User  \\\n",
       "0  12/30/23, 10:05 pm -       Notifications   \n",
       "1  12/30/23, 10:05 pm -       Notifications   \n",
       "2  12/30/23, 10:06 pm -   Pranesh Chowdhury   \n",
       "3  12/30/23, 10:07 pm -   Pranesh Chowdhury   \n",
       "4  12/30/23, 10:08 pm -   Pranesh Chowdhury   \n",
       "\n",
       "                                             Message  \n",
       "0  Messages and calls are end-to-end encrypted. N...  \n",
       "1                   You created group \"Discussion\"\\n  \n",
       "2                                 Hi, How are you?\\n  \n",
       "3  I am trying to make a message dataset for our ...  \n",
       "4  Please message in english. Because our analysi...  "
      ]
     },
     "execution_count": 139,
     "metadata": {},
     "output_type": "execute_result"
    }
   ],
   "source": [
    "_12h_format_data = preprocessor(data2)\n",
    "_12h_format_data.head()"
   ]
  },
  {
   "cell_type": "markdown",
   "id": "c70a1645",
   "metadata": {},
   "source": [
    "# Transforming Dates in 24 - hours format"
   ]
  },
  {
   "cell_type": "code",
   "execution_count": 142,
   "id": "d0104b66",
   "metadata": {},
   "outputs": [],
   "source": [
    "def datetime(data):\n",
    "    try:\n",
    "\n",
    "        datetime_data = pd.to_datetime(data,format=\"%m/%d/%y, %I:%M %p - \")\n",
    "\n",
    "    except:\n",
    "        try:\n",
    "            datetime_data = pd.to_datetime(data,format=\"%m/%d/%y, %H:%M - \")\n",
    "        except ValueError:\n",
    "            raise ValueError('Invalid date-time format')\n",
    "\n",
    "    return datetime_data"
   ]
  },
  {
   "cell_type": "markdown",
   "id": "3dd359ef",
   "metadata": {},
   "source": [
    "### Testing function"
   ]
  },
  {
   "cell_type": "code",
   "execution_count": 147,
   "id": "0236c4b7",
   "metadata": {},
   "outputs": [
    {
     "data": {
      "text/plain": [
       "0    2023-12-30 22:05:00\n",
       "1    2023-12-30 22:05:00\n",
       "2    2023-12-30 22:06:00\n",
       "3    2023-12-30 22:07:00\n",
       "4    2023-12-30 22:08:00\n",
       "             ...        \n",
       "62   2023-12-30 22:31:00\n",
       "63   2023-12-30 22:32:00\n",
       "64   2023-12-30 22:32:00\n",
       "65   2023-12-30 22:32:00\n",
       "66   2023-12-30 22:34:00\n",
       "Name: Dates, Length: 67, dtype: datetime64[ns]"
      ]
     },
     "execution_count": 147,
     "metadata": {},
     "output_type": "execute_result"
    }
   ],
   "source": [
    "datetime(_12h_format_data['Dates'])"
   ]
  },
  {
   "cell_type": "code",
   "execution_count": 145,
   "id": "4b59f259",
   "metadata": {},
   "outputs": [
    {
     "data": {
      "text/plain": [
       "0    2023-12-30 22:05:00\n",
       "1    2023-12-30 22:05:00\n",
       "2    2023-12-30 22:06:00\n",
       "3    2023-12-30 22:07:00\n",
       "4    2023-12-30 22:08:00\n",
       "             ...        \n",
       "62   2023-12-30 22:31:00\n",
       "63   2023-12-30 22:32:00\n",
       "64   2023-12-30 22:32:00\n",
       "65   2023-12-30 22:32:00\n",
       "66   2023-12-30 22:34:00\n",
       "Name: Dates, Length: 67, dtype: datetime64[ns]"
      ]
     },
     "execution_count": 145,
     "metadata": {},
     "output_type": "execute_result"
    }
   ],
   "source": [
    "datetime(_24h_format_data['Dates'])"
   ]
  },
  {
   "cell_type": "markdown",
   "id": "7169ad95",
   "metadata": {},
   "source": [
    "**It is working well with both timezone data**"
   ]
  },
  {
   "cell_type": "markdown",
   "id": "de721127",
   "metadata": {},
   "source": [
    "# Updating our script\n"
   ]
  },
  {
   "cell_type": "code",
   "execution_count": 170,
   "id": "4f2c5569",
   "metadata": {},
   "outputs": [],
   "source": [
    "def preprocessor(data='string'):\n",
    "    pattern ='\\d{1,2}\\/\\d{1,2}\\/\\d{2},\\s\\d{1,2}:\\d{2}\\s(?:am\\s|pm\\s)?-\\s'\n",
    "    messages = re.split(pattern,data)[1:]\n",
    "    dates = re.findall(pattern,data)\n",
    "    df = pd.DataFrame({'Dates':dates,'Messages':messages})\n",
    "    usernames = list()\n",
    "    messages = list()\n",
    "    \n",
    "    for i in df['Messages']:\n",
    "        values = re.split('([\\w\\W]+):\\s',i)\n",
    "\n",
    "        if len(values)>2:\n",
    "            usernames.append(values[1])\n",
    "            messages.append(values[2])\n",
    "        else:\n",
    "            usernames.append('Notifications')\n",
    "            messages.append(values[0])\n",
    "    df['User'] = usernames\n",
    "    df['Message'] = messages\n",
    "    df.drop(columns='Messages',inplace=True)\n",
    "    \n",
    "    df['Dates'] = datetime(df['Dates'])\n",
    "    return df"
   ]
  },
  {
   "cell_type": "markdown",
   "id": "c1476daa",
   "metadata": {},
   "source": [
    "# Final Testing"
   ]
  },
  {
   "cell_type": "code",
   "execution_count": 171,
   "id": "8e5a6ead",
   "metadata": {},
   "outputs": [
    {
     "data": {
      "text/html": [
       "<div>\n",
       "<style scoped>\n",
       "    .dataframe tbody tr th:only-of-type {\n",
       "        vertical-align: middle;\n",
       "    }\n",
       "\n",
       "    .dataframe tbody tr th {\n",
       "        vertical-align: top;\n",
       "    }\n",
       "\n",
       "    .dataframe thead th {\n",
       "        text-align: right;\n",
       "    }\n",
       "</style>\n",
       "<table border=\"1\" class=\"dataframe\">\n",
       "  <thead>\n",
       "    <tr style=\"text-align: right;\">\n",
       "      <th></th>\n",
       "      <th>Dates</th>\n",
       "      <th>User</th>\n",
       "      <th>Message</th>\n",
       "    </tr>\n",
       "  </thead>\n",
       "  <tbody>\n",
       "    <tr>\n",
       "      <th>0</th>\n",
       "      <td>2023-12-30 22:05:00</td>\n",
       "      <td>Notifications</td>\n",
       "      <td>Messages and calls are end-to-end encrypted. N...</td>\n",
       "    </tr>\n",
       "    <tr>\n",
       "      <th>1</th>\n",
       "      <td>2023-12-30 22:05:00</td>\n",
       "      <td>Notifications</td>\n",
       "      <td>You created group \"Discussion\"\\n</td>\n",
       "    </tr>\n",
       "    <tr>\n",
       "      <th>2</th>\n",
       "      <td>2023-12-30 22:06:00</td>\n",
       "      <td>Pranesh Chowdhury</td>\n",
       "      <td>Hi, How are you?\\n</td>\n",
       "    </tr>\n",
       "    <tr>\n",
       "      <th>3</th>\n",
       "      <td>2023-12-30 22:07:00</td>\n",
       "      <td>Pranesh Chowdhury</td>\n",
       "      <td>I am trying to make a message dataset for our ...</td>\n",
       "    </tr>\n",
       "    <tr>\n",
       "      <th>4</th>\n",
       "      <td>2023-12-30 22:08:00</td>\n",
       "      <td>Pranesh Chowdhury</td>\n",
       "      <td>Please message in english. Because our analysi...</td>\n",
       "    </tr>\n",
       "    <tr>\n",
       "      <th>...</th>\n",
       "      <td>...</td>\n",
       "      <td>...</td>\n",
       "      <td>...</td>\n",
       "    </tr>\n",
       "    <tr>\n",
       "      <th>62</th>\n",
       "      <td>2023-12-30 22:31:00</td>\n",
       "      <td>Ayaz EDU</td>\n",
       "      <td>Okay\\n</td>\n",
       "    </tr>\n",
       "    <tr>\n",
       "      <th>63</th>\n",
       "      <td>2023-12-30 22:32:00</td>\n",
       "      <td>Ayaz EDU</td>\n",
       "      <td>Let me see\\n</td>\n",
       "    </tr>\n",
       "    <tr>\n",
       "      <th>64</th>\n",
       "      <td>2023-12-30 22:32:00</td>\n",
       "      <td>Pranesh Chowdhury</td>\n",
       "      <td>ok, bro.\\n</td>\n",
       "    </tr>\n",
       "    <tr>\n",
       "      <th>65</th>\n",
       "      <td>2023-12-30 22:32:00</td>\n",
       "      <td>Pranesh Chowdhury</td>\n",
       "      <td>Have a good day.\\n</td>\n",
       "    </tr>\n",
       "    <tr>\n",
       "      <th>66</th>\n",
       "      <td>2023-12-30 22:34:00</td>\n",
       "      <td>Ayaz EDU</td>\n",
       "      <td>You, too\\n</td>\n",
       "    </tr>\n",
       "  </tbody>\n",
       "</table>\n",
       "<p>67 rows × 3 columns</p>\n",
       "</div>"
      ],
      "text/plain": [
       "                 Dates               User  \\\n",
       "0  2023-12-30 22:05:00      Notifications   \n",
       "1  2023-12-30 22:05:00      Notifications   \n",
       "2  2023-12-30 22:06:00  Pranesh Chowdhury   \n",
       "3  2023-12-30 22:07:00  Pranesh Chowdhury   \n",
       "4  2023-12-30 22:08:00  Pranesh Chowdhury   \n",
       "..                 ...                ...   \n",
       "62 2023-12-30 22:31:00           Ayaz EDU   \n",
       "63 2023-12-30 22:32:00           Ayaz EDU   \n",
       "64 2023-12-30 22:32:00  Pranesh Chowdhury   \n",
       "65 2023-12-30 22:32:00  Pranesh Chowdhury   \n",
       "66 2023-12-30 22:34:00           Ayaz EDU   \n",
       "\n",
       "                                              Message  \n",
       "0   Messages and calls are end-to-end encrypted. N...  \n",
       "1                    You created group \"Discussion\"\\n  \n",
       "2                                  Hi, How are you?\\n  \n",
       "3   I am trying to make a message dataset for our ...  \n",
       "4   Please message in english. Because our analysi...  \n",
       "..                                                ...  \n",
       "62                                             Okay\\n  \n",
       "63                                       Let me see\\n  \n",
       "64                                         ok, bro.\\n  \n",
       "65                                 Have a good day.\\n  \n",
       "66                                         You, too\\n  \n",
       "\n",
       "[67 rows x 3 columns]"
      ]
     },
     "execution_count": 171,
     "metadata": {},
     "output_type": "execute_result"
    }
   ],
   "source": [
    "preprocessor(data1)"
   ]
  },
  {
   "cell_type": "code",
   "execution_count": 172,
   "id": "a43af284",
   "metadata": {
    "scrolled": true
   },
   "outputs": [
    {
     "data": {
      "text/html": [
       "<div>\n",
       "<style scoped>\n",
       "    .dataframe tbody tr th:only-of-type {\n",
       "        vertical-align: middle;\n",
       "    }\n",
       "\n",
       "    .dataframe tbody tr th {\n",
       "        vertical-align: top;\n",
       "    }\n",
       "\n",
       "    .dataframe thead th {\n",
       "        text-align: right;\n",
       "    }\n",
       "</style>\n",
       "<table border=\"1\" class=\"dataframe\">\n",
       "  <thead>\n",
       "    <tr style=\"text-align: right;\">\n",
       "      <th></th>\n",
       "      <th>Dates</th>\n",
       "      <th>User</th>\n",
       "      <th>Message</th>\n",
       "    </tr>\n",
       "  </thead>\n",
       "  <tbody>\n",
       "    <tr>\n",
       "      <th>0</th>\n",
       "      <td>2023-12-30 22:05:00</td>\n",
       "      <td>Notifications</td>\n",
       "      <td>Messages and calls are end-to-end encrypted. N...</td>\n",
       "    </tr>\n",
       "    <tr>\n",
       "      <th>1</th>\n",
       "      <td>2023-12-30 22:05:00</td>\n",
       "      <td>Notifications</td>\n",
       "      <td>You created group \"Discussion\"\\n</td>\n",
       "    </tr>\n",
       "    <tr>\n",
       "      <th>2</th>\n",
       "      <td>2023-12-30 22:06:00</td>\n",
       "      <td>Pranesh Chowdhury</td>\n",
       "      <td>Hi, How are you?\\n</td>\n",
       "    </tr>\n",
       "    <tr>\n",
       "      <th>3</th>\n",
       "      <td>2023-12-30 22:07:00</td>\n",
       "      <td>Pranesh Chowdhury</td>\n",
       "      <td>I am trying to make a message dataset for our ...</td>\n",
       "    </tr>\n",
       "    <tr>\n",
       "      <th>4</th>\n",
       "      <td>2023-12-30 22:08:00</td>\n",
       "      <td>Pranesh Chowdhury</td>\n",
       "      <td>Please message in english. Because our analysi...</td>\n",
       "    </tr>\n",
       "    <tr>\n",
       "      <th>...</th>\n",
       "      <td>...</td>\n",
       "      <td>...</td>\n",
       "      <td>...</td>\n",
       "    </tr>\n",
       "    <tr>\n",
       "      <th>62</th>\n",
       "      <td>2023-12-30 22:31:00</td>\n",
       "      <td>Ayaz EDU</td>\n",
       "      <td>Okay\\n</td>\n",
       "    </tr>\n",
       "    <tr>\n",
       "      <th>63</th>\n",
       "      <td>2023-12-30 22:32:00</td>\n",
       "      <td>Ayaz EDU</td>\n",
       "      <td>Let me see\\n</td>\n",
       "    </tr>\n",
       "    <tr>\n",
       "      <th>64</th>\n",
       "      <td>2023-12-30 22:32:00</td>\n",
       "      <td>Pranesh Chowdhury</td>\n",
       "      <td>ok, bro.\\n</td>\n",
       "    </tr>\n",
       "    <tr>\n",
       "      <th>65</th>\n",
       "      <td>2023-12-30 22:32:00</td>\n",
       "      <td>Pranesh Chowdhury</td>\n",
       "      <td>Have a good day.\\n</td>\n",
       "    </tr>\n",
       "    <tr>\n",
       "      <th>66</th>\n",
       "      <td>2023-12-30 22:34:00</td>\n",
       "      <td>Ayaz EDU</td>\n",
       "      <td>You, toopm\\n</td>\n",
       "    </tr>\n",
       "  </tbody>\n",
       "</table>\n",
       "<p>67 rows × 3 columns</p>\n",
       "</div>"
      ],
      "text/plain": [
       "                 Dates               User  \\\n",
       "0  2023-12-30 22:05:00      Notifications   \n",
       "1  2023-12-30 22:05:00      Notifications   \n",
       "2  2023-12-30 22:06:00  Pranesh Chowdhury   \n",
       "3  2023-12-30 22:07:00  Pranesh Chowdhury   \n",
       "4  2023-12-30 22:08:00  Pranesh Chowdhury   \n",
       "..                 ...                ...   \n",
       "62 2023-12-30 22:31:00           Ayaz EDU   \n",
       "63 2023-12-30 22:32:00           Ayaz EDU   \n",
       "64 2023-12-30 22:32:00  Pranesh Chowdhury   \n",
       "65 2023-12-30 22:32:00  Pranesh Chowdhury   \n",
       "66 2023-12-30 22:34:00           Ayaz EDU   \n",
       "\n",
       "                                              Message  \n",
       "0   Messages and calls are end-to-end encrypted. N...  \n",
       "1                    You created group \"Discussion\"\\n  \n",
       "2                                  Hi, How are you?\\n  \n",
       "3   I am trying to make a message dataset for our ...  \n",
       "4   Please message in english. Because our analysi...  \n",
       "..                                                ...  \n",
       "62                                             Okay\\n  \n",
       "63                                       Let me see\\n  \n",
       "64                                         ok, bro.\\n  \n",
       "65                                 Have a good day.\\n  \n",
       "66                                       You, toopm\\n  \n",
       "\n",
       "[67 rows x 3 columns]"
      ]
     },
     "execution_count": 172,
     "metadata": {},
     "output_type": "execute_result"
    }
   ],
   "source": [
    "preprocessor(data2)"
   ]
  }
 ],
 "metadata": {
  "kernelspec": {
   "display_name": "Python 3 (ipykernel)",
   "language": "python",
   "name": "python3"
  },
  "language_info": {
   "codemirror_mode": {
    "name": "ipython",
    "version": 3
   },
   "file_extension": ".py",
   "mimetype": "text/x-python",
   "name": "python",
   "nbconvert_exporter": "python",
   "pygments_lexer": "ipython3",
   "version": "3.11.3"
  },
  "widgets": {
   "application/vnd.jupyter.widget-state+json": {
    "state": {},
    "version_major": 2,
    "version_minor": 0
   }
  }
 },
 "nbformat": 4,
 "nbformat_minor": 5
}
